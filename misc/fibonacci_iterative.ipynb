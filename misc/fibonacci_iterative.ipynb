{
 "cells": [
  {
   "cell_type": "markdown",
   "source": [
    "# Implementation of the Fibonacci Sequence (Iterative Implementation)"
   ],
   "metadata": {}
  },
  {
   "cell_type": "code",
   "execution_count": null,
   "source": [
    "def f(n: int) -> int:\n",
    "    if n == 1: return [1]\n",
    "    if n == 2: return [1, 1]\n",
    "    fibs = [1, 1]\n",
    "    for i in range(2, n):\n",
    "        fibs.append(fibs[-1] + fibs[-2])\n",
    "    return fibs"
   ],
   "outputs": [],
   "metadata": {}
  }
 ],
 "metadata": {
  "orig_nbformat": 4,
  "language_info": {
   "name": "python"
  }
 },
 "nbformat": 4,
 "nbformat_minor": 2
}