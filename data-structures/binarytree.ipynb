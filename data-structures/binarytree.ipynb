{
 "cells": [
  {
   "cell_type": "markdown",
   "metadata": {},
   "source": [
    "# Implementation of a Binary Tree"
   ]
  },
  {
   "cell_type": "code",
   "execution_count": 11,
   "metadata": {},
   "outputs": [],
   "source": [
    "class Node(object):\n",
    "    def __init__(self, data):\n",
    "        self.data = data\n",
    "        self.left = None\n",
    "        self.right = None\n",
    "\n",
    "    def __str__(self):\n",
    "        return self.left + self.data + self.right\n",
    "\n",
    "    def insert(self, data):\n",
    "        if not self.left:\n",
    "            self.left = Node(data)\n",
    "        elif not self.right:\n",
    "            self.right = Node(data)\n",
    "        else: \n",
    "            if self.left:\n",
    "                self.left.insert(data)\n",
    "            if self.right:\n",
    "                self.right.insert(data)\n",
    "\n",
    "    def search(self, data):\n",
    "        if self.data == data:       return True\n",
    "        if self.search(self.left):  return True\n",
    "        if self.search(self.right): print(\"foo\")\n",
    "        return False"
   ]
  },
  {
   "cell_type": "code",
   "execution_count": 10,
   "metadata": {},
   "outputs": [],
   "source": [
    "tree = Node(1)\n",
    "nums = [1, 2, 3, 4, 5]\n",
    "for n in nums:\n",
    "    tree.insert(n)\n",
    "\n"
   ]
  }
 ],
 "metadata": {
  "interpreter": {
   "hash": "767d51c1340bd893661ea55ea3124f6de3c7a262a8b4abca0554b478b1e2ff90"
  },
  "kernelspec": {
   "display_name": "Python 3.8.10 64-bit",
   "language": "python",
   "name": "python3"
  },
  "language_info": {
   "codemirror_mode": {
    "name": "ipython",
    "version": 3
   },
   "file_extension": ".py",
   "mimetype": "text/x-python",
   "name": "python",
   "nbconvert_exporter": "python",
   "pygments_lexer": "ipython3",
   "version": "3.8.10"
  },
  "orig_nbformat": 4
 },
 "nbformat": 4,
 "nbformat_minor": 2
}
