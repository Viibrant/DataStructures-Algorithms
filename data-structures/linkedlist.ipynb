{
 "cells": [
  {
   "cell_type": "markdown",
   "source": [
    "<h1 align=\"center\"> Implementation of a Singly Linked List </h1>"
   ],
   "metadata": {}
  },
  {
   "cell_type": "code",
   "execution_count": 68,
   "source": [
    "class Node(object):\n",
    "    def __init__(self, data, link=None):\n",
    "        self.link = link\n",
    "        self.data = data\n",
    "\n",
    "    def get_data(self):\n",
    "        return self.data    \n",
    "\n",
    "    def get_next(self):\n",
    "        return self.link\n",
    "\n",
    "    def set_link(self, data=None):\n",
    "        # Recursive definition!\n",
    "        self.link = Node(data)"
   ],
   "outputs": [],
   "metadata": {}
  },
  {
   "cell_type": "code",
   "execution_count": 117,
   "source": [
    "class LinkedList(object):\n",
    "    def __init__(self, head=None):\n",
    "        self.head = head\n",
    "        self.size = 1\n",
    "        \n",
    "    def insert(self, data):\n",
    "        node = Node(data, link=self.head)\n",
    "        self.head = node\n",
    "        self.size += 1\n",
    "    \n",
    "    def delete(self, data):\n",
    "        prev = None\n",
    "        node = self.head\n",
    "\n",
    "        while node:\n",
    "            if node.get_data() == data:\n",
    "                if not prev:\n",
    "                    self.head = node.get_next()\n",
    "                else:\n",
    "                    prev.set_link(node.get_next())\n",
    "                del node\n",
    "                return True\n",
    "\n",
    "            prev, node = node, node.get_next()\n",
    "        return False\n",
    "\n",
    "    def search(self, data):\n",
    "        node = self.head\n",
    "        while node:\n",
    "            if node.get_data() == data:\n",
    "                return node\n",
    "            node = node.get_next()"
   ],
   "outputs": [],
   "metadata": {}
  },
  {
   "cell_type": "markdown",
   "source": [
    "## Recursive function to traverse backwards through the singly linked list"
   ],
   "metadata": {}
  },
  {
   "cell_type": "code",
   "execution_count": 218,
   "source": [
    "def walk_backwards(head: Node):\n",
    "    if head:\n",
    "        print(\"Data: \", head.get_data(), \"\\n\"\n",
    "            \"Link: \", head.get_next(), \"\\n\"\n",
    "            )\n",
    "\n",
    "        walk_backwards(head.get_next())\n"
   ],
   "outputs": [],
   "metadata": {}
  },
  {
   "cell_type": "code",
   "execution_count": 219,
   "source": [
    "ll = LinkedList(Node(\"spam\"))\n",
    "ll.insert(\"ham\")\n",
    "\n",
    "if ll.search(\"ham\"):\n",
    "    print(\"found!\")\n",
    "\n",
    "ll.insert(\"eggs\")\n",
    "ll.insert(\"foo\")\n",
    "ll.insert(\"bar\")\n",
    "walk_backwards(ll.head)"
   ],
   "outputs": [
    {
     "output_type": "stream",
     "name": "stdout",
     "text": [
      "found!\n",
      "Data:  bar \n",
      "Link:  <__main__.Node object at 0x7f1742d25fa0> \n",
      "\n",
      "Data:  foo \n",
      "Link:  <__main__.Node object at 0x7f1742ff9190> \n",
      "\n",
      "Data:  eggs \n",
      "Link:  <__main__.Node object at 0x7f1742fbbc70> \n",
      "\n",
      "Data:  ham \n",
      "Link:  <__main__.Node object at 0x7f1742fbb0d0> \n",
      "\n",
      "Data:  spam \n",
      "Link:  None \n",
      "\n"
     ]
    }
   ],
   "metadata": {}
  },
  {
   "cell_type": "markdown",
   "source": [
    "# Graphical representation"
   ],
   "metadata": {}
  },
  {
   "cell_type": "code",
   "execution_count": 211,
   "source": [
    "import networkx as nx\n",
    "import random"
   ],
   "outputs": [],
   "metadata": {}
  },
  {
   "cell_type": "code",
   "execution_count": 217,
   "source": [
    "def get_nodes(ll: LinkedList) -> list:\n",
    "    node = ll.head\n",
    "    nodes = []\n",
    "    while node:\n",
    "        nodes.append(node)\n",
    "        node = node.get_next()\n",
    "    return nodes"
   ],
   "outputs": [],
   "metadata": {}
  },
  {
   "cell_type": "code",
   "execution_count": 223,
   "source": [
    "def draw_graph(ll: LinkedList):\n",
    "    G = nx.Graph()\n",
    "    nodes = get_nodes(ll)    \n",
    "    \n",
    "    # code all nodes to positions on graph all y=2\n",
    "    positions = {i: [i, 2] for i, _ in enumerate(nodes)}\n",
    "    edges = [(i, i+1) for i, _ in enumerate(nodes[:-1])]\n",
    "    labels = {i: nodes[i].get_data() for i, _ in enumerate(nodes)}\n",
    "    colours = [random.choice(['r', 'g', 'b']) for i, _ in enumerate(nodes)]\n",
    "\n",
    "    G.add_edges_from(edges)\n",
    "    nx.draw(G, pos=positions,\n",
    "        node_color=colours, node_size=1500,\n",
    "        labels=labels, with_labels=True, font_weight=\"bold\")\n",
    "\n",
    "draw_graph(ll)"
   ],
   "outputs": [
    {
     "output_type": "display_data",
     "data": {
      "text/plain": [
       "<Figure size 432x288 with 1 Axes>"
      ],
      "image/svg+xml": "<?xml version=\"1.0\" encoding=\"utf-8\" standalone=\"no\"?>\n<!DOCTYPE svg PUBLIC \"-//W3C//DTD SVG 1.1//EN\"\n  \"http://www.w3.org/Graphics/SVG/1.1/DTD/svg11.dtd\">\n<!-- Created with matplotlib (https://matplotlib.org/) -->\n<svg height=\"302.4pt\" version=\"1.1\" viewBox=\"0 0 446.4 302.4\" width=\"446.4pt\" xmlns=\"http://www.w3.org/2000/svg\" xmlns:xlink=\"http://www.w3.org/1999/xlink\">\n <metadata>\n  <rdf:RDF xmlns:cc=\"http://creativecommons.org/ns#\" xmlns:dc=\"http://purl.org/dc/elements/1.1/\" xmlns:rdf=\"http://www.w3.org/1999/02/22-rdf-syntax-ns#\">\n   <cc:Work>\n    <dc:type rdf:resource=\"http://purl.org/dc/dcmitype/StillImage\"/>\n    <dc:date>2021-11-14T01:44:51.534116</dc:date>\n    <dc:format>image/svg+xml</dc:format>\n    <dc:creator>\n     <cc:Agent>\n      <dc:title>Matplotlib v3.3.2, https://matplotlib.org/</dc:title>\n     </cc:Agent>\n    </dc:creator>\n   </cc:Work>\n  </rdf:RDF>\n </metadata>\n <defs>\n  <style type=\"text/css\">*{stroke-linecap:butt;stroke-linejoin:round;}</style>\n </defs>\n <g id=\"figure_1\">\n  <g id=\"patch_1\">\n   <path d=\"M 0 302.4 \nL 446.4 302.4 \nL 446.4 0 \nL 0 0 \nz\n\" style=\"fill:#ffffff;\"/>\n  </g>\n  <g id=\"axes_1\">\n   <g id=\"LineCollection_1\">\n    <path clip-path=\"url(#pa8051c705a)\" d=\"M 44.687603 151.2 \nL 133.943802 151.2 \n\" style=\"fill:none;stroke:#000000;\"/>\n    <path clip-path=\"url(#pa8051c705a)\" d=\"M 133.943802 151.2 \nL 223.2 151.2 \n\" style=\"fill:none;stroke:#000000;\"/>\n    <path clip-path=\"url(#pa8051c705a)\" d=\"M 223.2 151.2 \nL 312.456198 151.2 \n\" style=\"fill:none;stroke:#000000;\"/>\n    <path clip-path=\"url(#pa8051c705a)\" d=\"M 312.456198 151.2 \nL 401.712397 151.2 \n\" style=\"fill:none;stroke:#000000;\"/>\n   </g>\n   <g id=\"PathCollection_1\">\n    <defs>\n     <path d=\"M 0 19.364917 \nC 5.135636 19.364917 10.061621 17.324507 13.693064 13.693064 \nC 17.324507 10.061621 19.364917 5.135636 19.364917 -0 \nC 19.364917 -5.135636 17.324507 -10.061621 13.693064 -13.693064 \nC 10.061621 -17.324507 5.135636 -19.364917 0 -19.364917 \nC -5.135636 -19.364917 -10.061621 -17.324507 -13.693064 -13.693064 \nC -17.324507 -10.061621 -19.364917 -5.135636 -19.364917 0 \nC -19.364917 5.135636 -17.324507 10.061621 -13.693064 13.693064 \nC -10.061621 17.324507 -5.135636 19.364917 0 19.364917 \nz\n\" id=\"C0_0_8e96ef329b\"/>\n    </defs>\n    <g clip-path=\"url(#pa8051c705a)\">\n     <use style=\"fill:#0000ff;stroke:#0000ff;\" x=\"44.687603\" xlink:href=\"#C0_0_8e96ef329b\" y=\"151.2\"/>\n    </g>\n    <g clip-path=\"url(#pa8051c705a)\">\n     <use style=\"fill:#008000;stroke:#008000;\" x=\"133.943802\" xlink:href=\"#C0_0_8e96ef329b\" y=\"151.2\"/>\n    </g>\n    <g clip-path=\"url(#pa8051c705a)\">\n     <use style=\"fill:#ff0000;stroke:#ff0000;\" x=\"223.2\" xlink:href=\"#C0_0_8e96ef329b\" y=\"151.2\"/>\n    </g>\n    <g clip-path=\"url(#pa8051c705a)\">\n     <use style=\"fill:#0000ff;stroke:#0000ff;\" x=\"312.456198\" xlink:href=\"#C0_0_8e96ef329b\" y=\"151.2\"/>\n    </g>\n    <g clip-path=\"url(#pa8051c705a)\">\n     <use style=\"fill:#ff0000;stroke:#ff0000;\" x=\"401.712397\" xlink:href=\"#C0_0_8e96ef329b\" y=\"151.2\"/>\n    </g>\n   </g>\n   <g id=\"text_1\">\n    <g clip-path=\"url(#pa8051c705a)\">\n     <!-- bar -->\n     <g transform=\"translate(33.385103 154.51125)scale(0.12 -0.12)\">\n      <defs>\n       <path d=\"M 37.5 11.28125 \nQ 43.109375 11.28125 46.0625 15.375 \nQ 49.03125 19.484375 49.03125 27.296875 \nQ 49.03125 35.109375 46.0625 39.203125 \nQ 43.109375 43.3125 37.5 43.3125 \nQ 31.890625 43.3125 28.875 39.1875 \nQ 25.875 35.0625 25.875 27.296875 \nQ 25.875 19.53125 28.875 15.40625 \nQ 31.890625 11.28125 37.5 11.28125 \nz\nM 25.875 46.6875 \nQ 29.5 51.46875 33.890625 53.734375 \nQ 38.28125 56 44 56 \nQ 54.109375 56 60.59375 47.96875 \nQ 67.09375 39.9375 67.09375 27.296875 \nQ 67.09375 14.65625 60.59375 6.609375 \nQ 54.109375 -1.421875 44 -1.421875 \nQ 38.28125 -1.421875 33.890625 0.84375 \nQ 29.5 3.125 25.875 7.90625 \nL 25.875 0 \nL 8.40625 0 \nL 8.40625 75.984375 \nL 25.875 75.984375 \nz\n\" id=\"DejaVuSans-Bold-98\"/>\n       <path d=\"M 32.90625 24.609375 \nQ 27.4375 24.609375 24.671875 22.75 \nQ 21.921875 20.90625 21.921875 17.28125 \nQ 21.921875 13.96875 24.140625 12.078125 \nQ 26.375 10.203125 30.328125 10.203125 \nQ 35.25 10.203125 38.625 13.734375 \nQ 42 17.28125 42 22.609375 \nL 42 24.609375 \nz\nM 59.625 31.203125 \nL 59.625 0 \nL 42 0 \nL 42 8.109375 \nQ 38.484375 3.125 34.078125 0.84375 \nQ 29.6875 -1.421875 23.390625 -1.421875 \nQ 14.890625 -1.421875 9.59375 3.53125 \nQ 4.296875 8.5 4.296875 16.40625 \nQ 4.296875 26.03125 10.90625 30.515625 \nQ 17.53125 35.015625 31.6875 35.015625 \nL 42 35.015625 \nL 42 36.375 \nQ 42 40.53125 38.71875 42.453125 \nQ 35.453125 44.390625 28.515625 44.390625 \nQ 22.90625 44.390625 18.0625 43.265625 \nQ 13.234375 42.140625 9.078125 39.890625 \nL 9.078125 53.21875 \nQ 14.703125 54.59375 20.359375 55.296875 \nQ 26.03125 56 31.6875 56 \nQ 46.484375 56 53.046875 50.171875 \nQ 59.625 44.34375 59.625 31.203125 \nz\n\" id=\"DejaVuSans-Bold-97\"/>\n       <path d=\"M 49.03125 39.796875 \nQ 46.734375 40.875 44.453125 41.375 \nQ 42.1875 41.890625 39.890625 41.890625 \nQ 33.15625 41.890625 29.515625 37.5625 \nQ 25.875 33.25 25.875 25.203125 \nL 25.875 0 \nL 8.40625 0 \nL 8.40625 54.6875 \nL 25.875 54.6875 \nL 25.875 45.703125 \nQ 29.25 51.078125 33.609375 53.53125 \nQ 37.984375 56 44.09375 56 \nQ 44.96875 56 45.984375 55.921875 \nQ 47.015625 55.859375 48.96875 55.609375 \nz\n\" id=\"DejaVuSans-Bold-114\"/>\n      </defs>\n      <use xlink:href=\"#DejaVuSans-Bold-98\"/>\n      <use x=\"71.582031\" xlink:href=\"#DejaVuSans-Bold-97\"/>\n      <use x=\"139.0625\" xlink:href=\"#DejaVuSans-Bold-114\"/>\n     </g>\n    </g>\n   </g>\n   <g id=\"text_2\">\n    <g clip-path=\"url(#pa8051c705a)\">\n     <!-- foo -->\n     <g transform=\"translate(123.089427 154.51125)scale(0.12 -0.12)\">\n      <defs>\n       <path d=\"M 44.390625 75.984375 \nL 44.390625 64.5 \nL 34.71875 64.5 \nQ 31 64.5 29.53125 63.15625 \nQ 28.078125 61.8125 28.078125 58.5 \nL 28.078125 54.6875 \nL 43.015625 54.6875 \nL 43.015625 42.1875 \nL 28.078125 42.1875 \nL 28.078125 0 \nL 10.59375 0 \nL 10.59375 42.1875 \nL 1.90625 42.1875 \nL 1.90625 54.6875 \nL 10.59375 54.6875 \nL 10.59375 58.5 \nQ 10.59375 67.4375 15.578125 71.703125 \nQ 20.5625 75.984375 31 75.984375 \nz\n\" id=\"DejaVuSans-Bold-102\"/>\n       <path d=\"M 34.421875 43.5 \nQ 28.609375 43.5 25.5625 39.328125 \nQ 22.515625 35.15625 22.515625 27.296875 \nQ 22.515625 19.4375 25.5625 15.25 \nQ 28.609375 11.078125 34.421875 11.078125 \nQ 40.140625 11.078125 43.15625 15.25 \nQ 46.1875 19.4375 46.1875 27.296875 \nQ 46.1875 35.15625 43.15625 39.328125 \nQ 40.140625 43.5 34.421875 43.5 \nz\nM 34.421875 56 \nQ 48.53125 56 56.46875 48.375 \nQ 64.40625 40.765625 64.40625 27.296875 \nQ 64.40625 13.8125 56.46875 6.1875 \nQ 48.53125 -1.421875 34.421875 -1.421875 \nQ 20.265625 -1.421875 12.28125 6.1875 \nQ 4.296875 13.8125 4.296875 27.296875 \nQ 4.296875 40.765625 12.28125 48.375 \nQ 20.265625 56 34.421875 56 \nz\n\" id=\"DejaVuSans-Bold-111\"/>\n      </defs>\n      <use xlink:href=\"#DejaVuSans-Bold-102\"/>\n      <use x=\"43.505859\" xlink:href=\"#DejaVuSans-Bold-111\"/>\n      <use x=\"112.207031\" xlink:href=\"#DejaVuSans-Bold-111\"/>\n     </g>\n    </g>\n   </g>\n   <g id=\"text_3\">\n    <g clip-path=\"url(#pa8051c705a)\">\n     <!-- eggs -->\n     <g transform=\"translate(206.97 154.4175)scale(0.12 -0.12)\">\n      <defs>\n       <path d=\"M 62.984375 27.484375 \nL 62.984375 22.515625 \nL 22.125 22.515625 \nQ 22.75 16.359375 26.5625 13.28125 \nQ 30.375 10.203125 37.203125 10.203125 \nQ 42.71875 10.203125 48.5 11.84375 \nQ 54.296875 13.484375 60.40625 16.796875 \nL 60.40625 3.328125 \nQ 54.203125 0.984375 48 -0.21875 \nQ 41.796875 -1.421875 35.59375 -1.421875 \nQ 20.75 -1.421875 12.515625 6.125 \nQ 4.296875 13.671875 4.296875 27.296875 \nQ 4.296875 40.671875 12.375 48.328125 \nQ 20.453125 56 34.625 56 \nQ 47.515625 56 55.25 48.234375 \nQ 62.984375 40.484375 62.984375 27.484375 \nz\nM 45.015625 33.296875 \nQ 45.015625 38.28125 42.109375 41.328125 \nQ 39.203125 44.390625 34.515625 44.390625 \nQ 29.4375 44.390625 26.265625 41.53125 \nQ 23.09375 38.671875 22.3125 33.296875 \nz\n\" id=\"DejaVuSans-Bold-101\"/>\n       <path d=\"M 45.609375 9.28125 \nQ 42 4.5 37.640625 2.25 \nQ 33.296875 0 27.59375 0 \nQ 17.578125 0 11.03125 7.875 \nQ 4.5 15.765625 4.5 27.984375 \nQ 4.5 40.234375 11.03125 48.0625 \nQ 17.578125 55.90625 27.59375 55.90625 \nQ 33.296875 55.90625 37.640625 53.65625 \nQ 42 51.421875 45.609375 46.578125 \nL 45.609375 54.6875 \nL 63.1875 54.6875 \nL 63.1875 5.515625 \nQ 63.1875 -7.671875 54.859375 -14.625 \nQ 46.53125 -21.578125 30.71875 -21.578125 \nQ 25.59375 -21.578125 20.796875 -20.796875 \nQ 16.015625 -20.015625 11.1875 -18.40625 \nL 11.1875 -4.78125 \nQ 15.765625 -7.421875 20.15625 -8.71875 \nQ 24.5625 -10.015625 29 -10.015625 \nQ 37.59375 -10.015625 41.59375 -6.25 \nQ 45.609375 -2.484375 45.609375 5.515625 \nz\nM 34.078125 43.3125 \nQ 28.65625 43.3125 25.625 39.296875 \nQ 22.609375 35.296875 22.609375 27.984375 \nQ 22.609375 20.453125 25.53125 16.578125 \nQ 28.46875 12.703125 34.078125 12.703125 \nQ 39.546875 12.703125 42.578125 16.703125 \nQ 45.609375 20.703125 45.609375 27.984375 \nQ 45.609375 35.296875 42.578125 39.296875 \nQ 39.546875 43.3125 34.078125 43.3125 \nz\n\" id=\"DejaVuSans-Bold-103\"/>\n       <path d=\"M 51.125 52.984375 \nL 51.125 39.703125 \nQ 45.515625 42.046875 40.28125 43.21875 \nQ 35.0625 44.390625 30.421875 44.390625 \nQ 25.4375 44.390625 23.015625 43.140625 \nQ 20.609375 41.890625 20.609375 39.3125 \nQ 20.609375 37.203125 22.4375 36.078125 \nQ 24.265625 34.96875 29 34.421875 \nL 32.078125 33.984375 \nQ 45.515625 32.28125 50.140625 28.375 \nQ 54.78125 24.46875 54.78125 16.109375 \nQ 54.78125 7.375 48.328125 2.96875 \nQ 41.890625 -1.421875 29.109375 -1.421875 \nQ 23.6875 -1.421875 17.890625 -0.5625 \nQ 12.109375 0.296875 6 2 \nL 6 15.28125 \nQ 11.234375 12.75 16.71875 11.46875 \nQ 22.21875 10.203125 27.875 10.203125 \nQ 33.015625 10.203125 35.59375 11.609375 \nQ 38.1875 13.03125 38.1875 15.828125 \nQ 38.1875 18.171875 36.40625 19.3125 \nQ 34.625 20.453125 29.296875 21.09375 \nL 26.21875 21.484375 \nQ 14.546875 22.953125 9.859375 26.90625 \nQ 5.171875 30.859375 5.171875 38.921875 \nQ 5.171875 47.609375 11.125 51.796875 \nQ 17.09375 56 29.390625 56 \nQ 34.234375 56 39.546875 55.265625 \nQ 44.875 54.546875 51.125 52.984375 \nz\n\" id=\"DejaVuSans-Bold-115\"/>\n      </defs>\n      <use xlink:href=\"#DejaVuSans-Bold-101\"/>\n      <use x=\"67.822266\" xlink:href=\"#DejaVuSans-Bold-103\"/>\n      <use x=\"139.404297\" xlink:href=\"#DejaVuSans-Bold-103\"/>\n      <use x=\"210.986328\" xlink:href=\"#DejaVuSans-Bold-115\"/>\n     </g>\n    </g>\n   </g>\n   <g id=\"text_4\">\n    <g clip-path=\"url(#pa8051c705a)\">\n     <!-- ham -->\n     <g transform=\"translate(297.883698 154.51125)scale(0.12 -0.12)\">\n      <defs>\n       <path d=\"M 63.375 33.296875 \nL 63.375 0 \nL 45.796875 0 \nL 45.796875 5.421875 \nL 45.796875 25.390625 \nQ 45.796875 32.5625 45.484375 35.25 \nQ 45.171875 37.9375 44.390625 39.203125 \nQ 43.359375 40.921875 41.59375 41.875 \nQ 39.84375 42.828125 37.59375 42.828125 \nQ 32.125 42.828125 29 38.59375 \nQ 25.875 34.375 25.875 26.90625 \nL 25.875 0 \nL 8.40625 0 \nL 8.40625 75.984375 \nL 25.875 75.984375 \nL 25.875 46.6875 \nQ 29.828125 51.46875 34.265625 53.734375 \nQ 38.71875 56 44.09375 56 \nQ 53.5625 56 58.46875 50.1875 \nQ 63.375 44.390625 63.375 33.296875 \nz\n\" id=\"DejaVuSans-Bold-104\"/>\n       <path d=\"M 59.078125 45.609375 \nQ 62.40625 50.6875 66.96875 53.34375 \nQ 71.53125 56 77 56 \nQ 86.421875 56 91.359375 50.1875 \nQ 96.296875 44.390625 96.296875 33.296875 \nL 96.296875 0 \nL 78.71875 0 \nL 78.71875 28.515625 \nQ 78.765625 29.15625 78.78125 29.828125 \nQ 78.8125 30.515625 78.8125 31.78125 \nQ 78.8125 37.59375 77.09375 40.203125 \nQ 75.390625 42.828125 71.578125 42.828125 \nQ 66.609375 42.828125 63.890625 38.71875 \nQ 61.1875 34.625 61.078125 26.859375 \nL 61.078125 0 \nL 43.5 0 \nL 43.5 28.515625 \nQ 43.5 37.59375 41.9375 40.203125 \nQ 40.375 42.828125 36.375 42.828125 \nQ 31.34375 42.828125 28.609375 38.703125 \nQ 25.875 34.578125 25.875 26.90625 \nL 25.875 0 \nL 8.296875 0 \nL 8.296875 54.6875 \nL 25.875 54.6875 \nL 25.875 46.6875 \nQ 29.109375 51.3125 33.28125 53.65625 \nQ 37.453125 56 42.484375 56 \nQ 48.140625 56 52.484375 53.265625 \nQ 56.84375 50.53125 59.078125 45.609375 \nz\n\" id=\"DejaVuSans-Bold-109\"/>\n      </defs>\n      <use xlink:href=\"#DejaVuSans-Bold-104\"/>\n      <use x=\"71.191406\" xlink:href=\"#DejaVuSans-Bold-97\"/>\n      <use x=\"138.671875\" xlink:href=\"#DejaVuSans-Bold-109\"/>\n     </g>\n    </g>\n   </g>\n   <g id=\"text_5\">\n    <g clip-path=\"url(#pa8051c705a)\">\n     <!-- spam -->\n     <g transform=\"translate(383.545522 154.51125)scale(0.12 -0.12)\">\n      <defs>\n       <path d=\"M 25.875 7.90625 \nL 25.875 -20.796875 \nL 8.40625 -20.796875 \nL 8.40625 54.6875 \nL 25.875 54.6875 \nL 25.875 46.6875 \nQ 29.5 51.46875 33.890625 53.734375 \nQ 38.28125 56 44 56 \nQ 54.109375 56 60.59375 47.96875 \nQ 67.09375 39.9375 67.09375 27.296875 \nQ 67.09375 14.65625 60.59375 6.609375 \nQ 54.109375 -1.421875 44 -1.421875 \nQ 38.28125 -1.421875 33.890625 0.84375 \nQ 29.5 3.125 25.875 7.90625 \nz\nM 37.5 43.3125 \nQ 31.890625 43.3125 28.875 39.1875 \nQ 25.875 35.0625 25.875 27.296875 \nQ 25.875 19.53125 28.875 15.40625 \nQ 31.890625 11.28125 37.5 11.28125 \nQ 43.109375 11.28125 46.0625 15.375 \nQ 49.03125 19.484375 49.03125 27.296875 \nQ 49.03125 35.109375 46.0625 39.203125 \nQ 43.109375 43.3125 37.5 43.3125 \nz\n\" id=\"DejaVuSans-Bold-112\"/>\n      </defs>\n      <use xlink:href=\"#DejaVuSans-Bold-115\"/>\n      <use x=\"59.521484\" xlink:href=\"#DejaVuSans-Bold-112\"/>\n      <use x=\"131.103516\" xlink:href=\"#DejaVuSans-Bold-97\"/>\n      <use x=\"198.583984\" xlink:href=\"#DejaVuSans-Bold-109\"/>\n     </g>\n    </g>\n   </g>\n  </g>\n </g>\n <defs>\n  <clipPath id=\"pa8051c705a\">\n   <rect height=\"288\" width=\"432\" x=\"7.2\" y=\"7.2\"/>\n  </clipPath>\n </defs>\n</svg>\n",
      "image/png": "[encoded data removed]"
     },
     "metadata": {}
    }
   ],
   "metadata": {}
  }
 ],
 "metadata": {
  "orig_nbformat": 4,
  "language_info": {
   "name": "python",
   "version": "3.8.10",
   "mimetype": "text/x-python",
   "codemirror_mode": {
    "name": "ipython",
    "version": 3
   },
   "pygments_lexer": "ipython3",
   "nbconvert_exporter": "python",
   "file_extension": ".py"
  },
  "kernelspec": {
   "name": "python3",
   "display_name": "Python 3.8.10 64-bit"
  },
  "interpreter": {
   "hash": "31f2aee4e71d21fbe5cf8b01ff0e069b9275f58929596ceb00d14d90e3e16cd6"
  }
 },
 "nbformat": 4,
 "nbformat_minor": 2
}