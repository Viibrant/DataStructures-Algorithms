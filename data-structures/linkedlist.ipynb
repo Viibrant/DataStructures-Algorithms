{
 "cells": [
  {
   "cell_type": "markdown",
   "source": [
    "<h1 align=\"center\"> Implementation of a Singly Linked List </h1>"
   ],
   "metadata": {}
  },
  {
   "cell_type": "code",
   "execution_count": 68,
   "source": [
    "class Node(object):\n",
    "    def __init__(self, data, link=None):\n",
    "        self.link = link\n",
    "        self.data = data\n",
    "\n",
    "    def get_data(self):\n",
    "        return self.data    \n",
    "\n",
    "    def get_next(self):\n",
    "        return self.link\n",
    "\n",
    "    def set_link(self, data=None):\n",
    "        # Recursive definition!\n",
    "        self.link = Node(data)"
   ],
   "outputs": [],
   "metadata": {}
  },
  {
   "cell_type": "code",
   "execution_count": 117,
   "source": [
    "class LinkedList(object):\n",
    "    def __init__(self, head=None):\n",
    "        self.head = head\n",
    "        self.size = 1\n",
    "        \n",
    "    def insert(self, data):\n",
    "        node = Node(data, link=self.head)\n",
    "        self.head = node\n",
    "        self.size += 1\n",
    "    \n",
    "    def delete(self, data):\n",
    "        prev = None\n",
    "        node = self.head\n",
    "\n",
    "        while node:\n",
    "            if node.get_data() == data:\n",
    "                if not prev:\n",
    "                    self.head = node.get_next()\n",
    "                else:\n",
    "                    prev.set_link(node.get_next())\n",
    "                del node\n",
    "                return True\n",
    "\n",
    "            prev, node = node, node.get_next()\n",
    "        return False\n",
    "\n",
    "    def search(self, data):\n",
    "        node = self.head\n",
    "        while node:\n",
    "            if node.get_data() == data:\n",
    "                return node\n",
    "            node = node.get_next()"
   ],
   "outputs": [],
   "metadata": {}
  },
  {
   "cell_type": "code",
   "execution_count": 125,
   "source": [
    "def walk_backwards(head: Node):\n",
    "    if head:\n",
    "        print(\n",
    "            \"Data: \", head.get_data(), \"\\n\"\n",
    "            \"Link: \", head.get_next(), \"\\n\"\n",
    "            )\n",
    "\n",
    "        walk_backwards(head.get_next())\n"
   ],
   "outputs": [],
   "metadata": {}
  },
  {
   "cell_type": "code",
   "execution_count": 139,
   "source": [
    "ll = LinkedList(Node(\"spam\"))\n",
    "ll.insert(\"ham\")\n",
    "\n",
    "if ll.search(\"ham\"):\n",
    "    print(\"found!\")\n",
    "\n",
    "ll.insert(\"eggs\")\n",
    "\n",
    "walk_backwards(ll.head)"
   ],
   "outputs": [
    {
     "output_type": "stream",
     "name": "stdout",
     "text": [
      "found!\n",
      "Data:  eggs \n",
      "Link:  <__main__.Node object at 0x7f17e19be310> \n",
      "\n",
      "Data:  ham \n",
      "Link:  <__main__.Node object at 0x7f17e19be100> \n",
      "\n",
      "Data:  spam \n",
      "Link:  None \n",
      "\n"
     ]
    }
   ],
   "metadata": {}
  }
 ],
 "metadata": {
  "orig_nbformat": 4,
  "language_info": {
   "name": "python",
   "version": "3.8.10",
   "mimetype": "text/x-python",
   "codemirror_mode": {
    "name": "ipython",
    "version": 3
   },
   "pygments_lexer": "ipython3",
   "nbconvert_exporter": "python",
   "file_extension": ".py"
  },
  "kernelspec": {
   "name": "python3",
   "display_name": "Python 3.8.10 64-bit"
  },
  "interpreter": {
   "hash": "31f2aee4e71d21fbe5cf8b01ff0e069b9275f58929596ceb00d14d90e3e16cd6"
  }
 },
 "nbformat": 4,
 "nbformat_minor": 2
}