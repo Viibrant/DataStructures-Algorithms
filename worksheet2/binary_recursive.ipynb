{
 "cells": [
  {
   "cell_type": "markdown",
   "source": [
    "<h1 align=\"center\"> Implementation of Binary Search (Recursive) </h1>"
   ],
   "metadata": {}
  },
  {
   "cell_type": "code",
   "execution_count": 27,
   "source": [
    "def binary_search(nums: list, low: int, up: int, search: int):\n",
    "\n",
    "    if low > up:\n",
    "        return\n",
    "\n",
    "    # Middle Index\n",
    "    mid = (up + low) // 2\n",
    "\n",
    "    # Middle Element\n",
    "    value = nums[mid]\n",
    "\n",
    "    if search == value:\n",
    "        return mid\n",
    "    elif search < value:\n",
    "        return binary_search(nums, low, mid-1, search)\n",
    "    elif search < value:\n",
    "        return binary_search(nums, mid + 1, up, search)\n"
   ],
   "outputs": [],
   "metadata": {}
  },
  {
   "cell_type": "code",
   "execution_count": 25,
   "source": [
    "# Recursive implementation of the binary search algorithm to return\n",
    "# the position of `target` in subarray nums[left…right]\n",
    "def binary_search(nums, left, right, target):\n",
    "\n",
    "\t# Base condition (search space is exhausted)\n",
    "\tif left > right:\n",
    "\t\treturn -1\n",
    "\n",
    "\t# find the mid-value in the search space and\n",
    "\t# compares it with the target\n",
    "\n",
    "\tmid = (left + right) // 2\n",
    "\n",
    "\t# overflow can happen. Use below\n",
    "\t# mid = left + (right - left) / 2\n",
    "\n",
    "\t# Base condition (a target is found)\n",
    "\tif target == nums[mid]:\n",
    "\t\treturn mid\n",
    "\n",
    "\t# discard all elements in the right search space,\n",
    "\t# including the middle element\n",
    "\telif target < nums[mid]:\n",
    "\t\treturn binary_search(nums, left, mid - 1, target)\n",
    "\n",
    "\t# discard all elements in the left search space,\n",
    "\t# including the middle element\n",
    "\telse:\n",
    "\t\treturn binary_search(nums, mid + 1, right, target)\n",
    "\n"
   ],
   "outputs": [],
   "metadata": {}
  },
  {
   "cell_type": "code",
   "execution_count": 26,
   "source": [
    "nums =  [1, 2, 5, 6, 9, 10, 15, 17]\n",
    "search = 5\n",
    "low = 0\n",
    "up = len(nums) - 1\n",
    "\n",
    "print(binary_search(nums, low, up, search))\n"
   ],
   "outputs": [
    {
     "output_type": "stream",
     "name": "stdout",
     "text": [
      "2\n"
     ]
    }
   ],
   "metadata": {}
  }
 ],
 "metadata": {
  "orig_nbformat": 4,
  "language_info": {
   "name": "python",
   "version": "3.8.10",
   "mimetype": "text/x-python",
   "codemirror_mode": {
    "name": "ipython",
    "version": 3
   },
   "pygments_lexer": "ipython3",
   "nbconvert_exporter": "python",
   "file_extension": ".py"
  },
  "kernelspec": {
   "name": "python3",
   "display_name": "Python 3.8.10 64-bit"
  },
  "interpreter": {
   "hash": "31f2aee4e71d21fbe5cf8b01ff0e069b9275f58929596ceb00d14d90e3e16cd6"
  }
 },
 "nbformat": 4,
 "nbformat_minor": 2
}