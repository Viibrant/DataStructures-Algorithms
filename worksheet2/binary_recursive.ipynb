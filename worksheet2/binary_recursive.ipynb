{
 "cells": [
  {
   "cell_type": "markdown",
   "source": [
    "<h1 align=\"center\"> Implementation of Binary Search (Recursive) </h1>"
   ],
   "metadata": {}
  },
  {
   "cell_type": "code",
   "execution_count": 38,
   "source": [
    "def binary_search(nums: list, low: int, up: int, search: int):\n",
    "\n",
    "    if low > up:\n",
    "        return\n",
    "\n",
    "    index = (up + low) // 2\n",
    "    value = nums[index]\n",
    "\n",
    "    if search == value:\n",
    "        return index\n",
    "    elif search < value:\n",
    "        return binary_search(nums, low, value-1, search)\n",
    "    else:\n",
    "        return binary_search(nums, value + 1, up, search)\n"
   ],
   "outputs": [],
   "metadata": {}
  },
  {
   "cell_type": "code",
   "execution_count": 40,
   "source": [
    "nums =  [1, 2, 5, 6, 9, 10, 15, 17]\n",
    "search = 5\n",
    "low = 0\n",
    "up = len(nums) - 1\n",
    "\n",
    "print(binary_search(nums, low, up, search))"
   ],
   "outputs": [
    {
     "output_type": "stream",
     "name": "stdout",
     "text": [
      "2\n"
     ]
    }
   ],
   "metadata": {}
  }
 ],
 "metadata": {
  "orig_nbformat": 4,
  "language_info": {
   "name": "python",
   "version": "3.8.10",
   "mimetype": "text/x-python",
   "codemirror_mode": {
    "name": "ipython",
    "version": 3
   },
   "pygments_lexer": "ipython3",
   "nbconvert_exporter": "python",
   "file_extension": ".py"
  },
  "kernelspec": {
   "name": "python3",
   "display_name": "Python 3.8.10 64-bit"
  },
  "interpreter": {
   "hash": "31f2aee4e71d21fbe5cf8b01ff0e069b9275f58929596ceb00d14d90e3e16cd6"
  }
 },
 "nbformat": 4,
 "nbformat_minor": 2
}