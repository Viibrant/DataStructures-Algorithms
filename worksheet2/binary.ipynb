{
 "cells": [
  {
   "cell_type": "markdown",
   "metadata": {},
   "source": [
    "<h1 align=\"center\"> Implementation of Binary Search </h1>"
   ]
  },
  {
   "cell_type": "code",
   "execution_count": 8,
   "metadata": {},
   "outputs": [],
   "source": [
    "def binary_search(nums: list, search: int):\n",
    "    while len(nums):\n",
    "        index = int(len(nums) / 2)\n",
    "        middle = nums[index]\n",
    "        print(f\"Index: {index}\\nMiddle: {middle}\")\n",
    "        if middle == search:\n",
    "            return index\n",
    "        elif middle > search:\n",
    "            nums = nums[:index]\n",
    "        else:\n",
    "            nums = nums[index:]\n",
    "    return False"
   ]
  },
  {
   "cell_type": "code",
   "execution_count": 10,
   "metadata": {},
   "outputs": [
    {
     "name": "stdout",
     "output_type": "stream",
     "text": [
      "Index: 4\n",
      "Middle: 9\n",
      "Index: 2\n",
      "Middle: 15\n",
      "Index: 1\n",
      "Middle: 17\n",
      "1\n"
     ]
    }
   ],
   "source": [
    "print(binary_search([1, 2, 5, 6, 9, 10, 15, 17], 17))"
   ]
  }
 ],
 "metadata": {
  "interpreter": {
   "hash": "e7370f93d1d0cde622a1f8e1c04877d8463912d04d973331ad4851f04de6915a"
  },
  "kernelspec": {
   "display_name": "Python 3.9.7 64-bit",
   "name": "python3"
  },
  "language_info": {
   "codemirror_mode": {
    "name": "ipython",
    "version": 3
   },
   "file_extension": ".py",
   "mimetype": "text/x-python",
   "name": "python",
   "nbconvert_exporter": "python",
   "pygments_lexer": "ipython3",
   "version": "3.9.7"
  },
  "orig_nbformat": 4
 },
 "nbformat": 4,
 "nbformat_minor": 2
}
