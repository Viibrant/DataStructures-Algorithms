{
 "cells": [
  {
   "cell_type": "markdown",
   "source": [
    "<h1 align=\"center\"> Implementation of Binary Search </h1>"
   ],
   "metadata": {}
  },
  {
   "cell_type": "code",
   "execution_count": 3,
   "source": [
    "def binary_search(nums: list, search: int):\n",
    "    low = 0\n",
    "    up = len(nums)\n",
    "    while low < up:\n",
    "        x = low + (up - low) // 2\n",
    "        value = nums[x]\n",
    "        if value == search:\n",
    "            return x \n",
    "        elif value < search:\n",
    "            if low == x:\n",
    "                break\n",
    "            low = x\n",
    "        elif search < value:\n",
    "            up = x"
   ],
   "outputs": [],
   "metadata": {}
  },
  {
   "cell_type": "code",
   "execution_count": 13,
   "source": [
    "print(binary_search([1, 2, 5, 6, 9, 10, 15, 17], 5))"
   ],
   "outputs": [
    {
     "output_type": "stream",
     "name": "stdout",
     "text": [
      "2\n"
     ]
    }
   ],
   "metadata": {}
  }
 ],
 "metadata": {
  "interpreter": {
   "hash": "31f2aee4e71d21fbe5cf8b01ff0e069b9275f58929596ceb00d14d90e3e16cd6"
  },
  "kernelspec": {
   "name": "python3",
   "display_name": "Python 3.8.10 64-bit"
  },
  "language_info": {
   "codemirror_mode": {
    "name": "ipython",
    "version": 3
   },
   "file_extension": ".py",
   "mimetype": "text/x-python",
   "name": "python",
   "nbconvert_exporter": "python",
   "pygments_lexer": "ipython3",
   "version": "3.8.10"
  },
  "orig_nbformat": 4
 },
 "nbformat": 4,
 "nbformat_minor": 2
}