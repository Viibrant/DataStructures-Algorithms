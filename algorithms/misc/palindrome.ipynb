{
 "cells": [
  {
   "cell_type": "markdown",
   "source": [
    "# Implementation of Palindrome checker (recursive)"
   ],
   "metadata": {}
  },
  {
   "cell_type": "code",
   "execution_count": 1,
   "source": [
    "def p(subset: str):\n",
    "    if len(subset) == 1: return True\n",
    "    if len(subset) == 2:\n",
    "        if subset[0] == subset[1]: return True\n",
    "        \n",
    "    if subset[0] == subset[-1]: return p(subset[1:-1])\n",
    "    return False"
   ],
   "outputs": [],
   "metadata": {}
  },
  {
   "cell_type": "code",
   "execution_count": 5,
   "source": [
    "words = [\"boob\", \"lol\", \"foo\", \"bar\", \"rotor\", \"radar\"]\n",
    "\n",
    "for word in words:\n",
    "    print(f\"{word}: {p(word)}\")"
   ],
   "outputs": [
    {
     "output_type": "stream",
     "name": "stdout",
     "text": [
      "boob: True\n",
      "lol: True\n",
      "foo: False\n",
      "bar: False\n",
      "rotor: True\n",
      "radar: True\n"
     ]
    }
   ],
   "metadata": {}
  }
 ],
 "metadata": {
  "orig_nbformat": 4,
  "language_info": {
   "name": "python",
   "version": "3.8.10",
   "mimetype": "text/x-python",
   "codemirror_mode": {
    "name": "ipython",
    "version": 3
   },
   "pygments_lexer": "ipython3",
   "nbconvert_exporter": "python",
   "file_extension": ".py"
  },
  "kernelspec": {
   "name": "python3",
   "display_name": "Python 3.8.10 64-bit"
  },
  "interpreter": {
   "hash": "767d51c1340bd893661ea55ea3124f6de3c7a262a8b4abca0554b478b1e2ff90"
  }
 },
 "nbformat": 4,
 "nbformat_minor": 2
}