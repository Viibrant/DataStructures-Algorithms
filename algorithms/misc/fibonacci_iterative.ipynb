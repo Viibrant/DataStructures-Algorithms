{
 "cells": [
  {
   "cell_type": "markdown",
   "source": [
    "# Implementation of the Fibonacci Sequence (Iterative Implementation)"
   ],
   "metadata": {}
  },
  {
   "cell_type": "code",
   "execution_count": null,
   "source": [
    "def f(n: int) -> int:\n",
    "    i = 0\n",
    "    first = 0\n",
    "    second = 1\n",
    "    temp = 0\n",
    "    while i <= n:\n",
    "        print(first)\n",
    "        temp = first + second\n",
    "        first = second\n",
    "        second = temp\n",
    "        i = i + 1"
   ],
   "outputs": [],
   "metadata": {}
  }
 ],
 "metadata": {
  "orig_nbformat": 4,
  "language_info": {
   "name": "python"
  }
 },
 "nbformat": 4,
 "nbformat_minor": 2
}