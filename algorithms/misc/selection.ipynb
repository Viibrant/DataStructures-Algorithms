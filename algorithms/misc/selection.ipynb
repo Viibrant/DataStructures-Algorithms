{
 "cells": [
  {
   "cell_type": "markdown",
   "source": [
    "<h1 align=\"center\"> Implementation of Selection Sort </h1>"
   ],
   "metadata": {}
  },
  {
   "cell_type": "code",
   "execution_count": 10,
   "source": [
    "def select_sort(nums: list):\n",
    "    sorted_list = []\n",
    "\n",
    "    for _ in range(len(nums)):\n",
    "        index = 0\n",
    "        for i in range(len(nums)):\n",
    "            index = i if nums[i] > nums[index] else index\n",
    "        sorted_list.insert(0, nums.pop(index))\n",
    "    \n",
    "    print(sorted_list)"
   ],
   "outputs": [],
   "metadata": {}
  },
  {
   "cell_type": "code",
   "execution_count": 9,
   "source": [
    "select_sort([5, 2, 1, 6, 9])\n",
    "select_sort([4, 1, 2, 2, 3])"
   ],
   "outputs": [
    {
     "output_type": "stream",
     "name": "stdout",
     "text": [
      "[1, 2, 5, 6, 9]\n",
      "[1, 2, 2, 3, 4]\n"
     ]
    }
   ],
   "metadata": {}
  }
 ],
 "metadata": {
  "orig_nbformat": 4,
  "language_info": {
   "name": "python",
   "version": "3.8.10",
   "mimetype": "text/x-python",
   "codemirror_mode": {
    "name": "ipython",
    "version": 3
   },
   "pygments_lexer": "ipython3",
   "nbconvert_exporter": "python",
   "file_extension": ".py"
  },
  "kernelspec": {
   "name": "python3",
   "display_name": "Python 3.8.10 64-bit"
  },
  "interpreter": {
   "hash": "31f2aee4e71d21fbe5cf8b01ff0e069b9275f58929596ceb00d14d90e3e16cd6"
  }
 },
 "nbformat": 4,
 "nbformat_minor": 2
}