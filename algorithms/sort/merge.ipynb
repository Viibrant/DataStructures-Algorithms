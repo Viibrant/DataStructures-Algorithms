{
 "cells": [
  {
   "cell_type": "code",
   "execution_count": 1,
   "source": [
    "def merge(l1: list, l2: list):\n",
    "    # return either list depending on empty\n",
    "    if (not l1) or (not l2):\n",
    "        return l1 + l2\n",
    "\n",
    "    if l1[0] > l2[0]:\n",
    "        return [l2[0]] + merge(l1, l2[1:])\n",
    "    if l1[0] < l2[0]:\n",
    "        return [l1[0]] + merge(l1[1:], l2)"
   ],
   "outputs": [],
   "metadata": {}
  },
  {
   "cell_type": "code",
   "execution_count": 2,
   "source": [
    "def merge_sort(nums: list):\n",
    "    if len(nums) <= 1:\n",
    "        return nums\n",
    "\n",
    "    N = len(nums)\n",
    "    middle = N // 2\n",
    "    left_nums = merge_sort(nums[0:middle])\n",
    "    right_nums = merge_sort(nums[middle:N])\n",
    "    return merge(left_nums, right_nums)"
   ],
   "outputs": [],
   "metadata": {}
  },
  {
   "cell_type": "code",
   "execution_count": 3,
   "source": [
    "\n",
    "nums = [3, 2, 1, 5, 4]\n",
    "print(merge_sort(nums))"
   ],
   "outputs": [
    {
     "output_type": "stream",
     "name": "stdout",
     "text": [
      "[1, 2, 3, 4, 5]\n"
     ]
    }
   ],
   "metadata": {}
  }
 ],
 "metadata": {
  "orig_nbformat": 4,
  "language_info": {
   "name": "python",
   "version": "3.8.10",
   "mimetype": "text/x-python",
   "codemirror_mode": {
    "name": "ipython",
    "version": 3
   },
   "pygments_lexer": "ipython3",
   "nbconvert_exporter": "python",
   "file_extension": ".py"
  },
  "kernelspec": {
   "name": "python3",
   "display_name": "Python 3.8.10 64-bit"
  },
  "interpreter": {
   "hash": "31f2aee4e71d21fbe5cf8b01ff0e069b9275f58929596ceb00d14d90e3e16cd6"
  }
 },
 "nbformat": 4,
 "nbformat_minor": 2
}